{
  "nbformat": 4,
  "nbformat_minor": 0,
  "metadata": {
    "colab": {
      "name": "Preparacao de Dados Bitstamp.ipynb",
      "provenance": [],
      "collapsed_sections": [],
      "authorship_tag": "ABX9TyNEqCwYkV/QYsCcIPFRCBrE",
      "include_colab_link": true
    },
    "kernelspec": {
      "name": "python3",
      "display_name": "Python 3"
    }
  },
  "cells": [
    {
      "cell_type": "markdown",
      "metadata": {
        "id": "view-in-github",
        "colab_type": "text"
      },
      "source": [
        "<a href=\"https://colab.research.google.com/github/pfmoro/Brazilian_Inflation_Modelling/blob/master/Preparacao_de_Dados_Bitstamp.ipynb\" target=\"_parent\"><img src=\"https://colab.research.google.com/assets/colab-badge.svg\" alt=\"Open In Colab\"/></a>"
      ]
    },
    {
      "cell_type": "code",
      "metadata": {
        "id": "GxxGqKSdHrs4"
      },
      "source": [
        "from google.colab import files\r\n",
        "uploaded = files.upload()"
      ],
      "execution_count": null,
      "outputs": []
    },
    {
      "cell_type": "code",
      "metadata": {
        "id": "RvZPH1TYHxB4"
      },
      "source": [
        "import pandas as pd\r\n",
        "import numpy as np\r\n",
        "from datetime import datetime"
      ],
      "execution_count": null,
      "outputs": []
    },
    {
      "cell_type": "code",
      "metadata": {
        "id": "5Om-reZEH0QO"
      },
      "source": [
        "df=pd.read_csv(\"bitstampUSD_1-min_data_2012-01-01_to_2020-12-31.csv\",sep=\";\")"
      ],
      "execution_count": null,
      "outputs": []
    },
    {
      "cell_type": "code",
      "metadata": {
        "id": "rdXHvNQvH6O7"
      },
      "source": [
        "df=df.dropna(how='any')\r\n",
        "df_final=pd.DataFrame(columns=[\"Data\",\"Open\",\"Close\"])\r\n",
        "df['Data']=\"Empty\""
      ],
      "execution_count": null,
      "outputs": []
    },
    {
      "cell_type": "code",
      "metadata": {
        "id": "9UCeBW3TIwse"
      },
      "source": [
        "for i in range(len(df)):\r\n",
        "  row=[0,0,0]\r\n",
        "  Data=(datetime.fromtimestamp(df['Timestamp'][i])).strftime(\"%Y-%m-%d\")\r\n",
        "  df['Data'][i]=Data\r\n",
        "  if i == 1:\r\n",
        "    row[0]=(Data)\r\n",
        "    row[1]=(df['Open'][i])\r\n",
        "  else:\r\n",
        "    if (datetime.fromtimestamp(df['Timestamp'][i])).strftime(\"%Y-%m-%d\") != (datetime.fromtimestamp(df['Timestamp'][i-1])).strftime(\"%Y-%m-%d\"):\r\n",
        "      row[0]=(Data)\r\n",
        "      row[1]=(df['Open'][i])\r\n",
        "  if i==len(df):\r\n",
        "      row[2]=(df['Close'][i])\r\n",
        "  else:\r\n",
        "    if (datetime.fromtimestamp(df['Timestamp'][i])).strftime(\"%Y-%m-%d\") != (datetime.fromtimestamp(df['Timestamp'][i+1])).strftime(\"%Y-%m-%d\"):\r\n",
        "      row[2]=(df['Close'][i])\r\n",
        "  df_final.loc[len(df_final)]=row\r\n"
      ],
      "execution_count": null,
      "outputs": []
    },
    {
      "cell_type": "code",
      "metadata": {
        "id": "JtZPgPMhNeVK"
      },
      "source": [
        "df_MaxMin=pd.DataFrame()\r\n",
        "df_MaxMin[\"Max\"]=df.groupby('Data')['Max'].max()\r\n",
        "df_MaxMin[\"Min\"]=df.groupby('Data')['Min'].min()\r\n",
        "df_MaxMin[\"Volume_(BTC)\"]=df.groupby('Data')['Volume_(BTC)'].sum()\r\n",
        "df_MaxMin[\"Volume_(Currency)\"]=df.groupby('Data')['Volume_(Currency)'].sum()\r\n",
        "df_MaxMin=df_MaxMin.reset_index()\r\n",
        "df_final=df_final.merge(df_MaxMin,on=\"Data\")"
      ],
      "execution_count": null,
      "outputs": []
    },
    {
      "cell_type": "code",
      "metadata": {
        "id": "telO2zUCJcvr"
      },
      "source": [
        "df_final.to_csv(\"Bitstamp.csv\",sep=\"|\")\r\n",
        "files.download(\"Bitstamp.csv\")"
      ],
      "execution_count": null,
      "outputs": []
    }
  ]
}